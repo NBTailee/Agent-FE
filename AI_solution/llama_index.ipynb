{
 "cells": [
  {
   "cell_type": "code",
   "execution_count": 1,
   "metadata": {},
   "outputs": [
    {
     "name": "stderr",
     "output_type": "stream",
     "text": [
      "c:\\Python311\\Lib\\site-packages\\tqdm\\auto.py:21: TqdmWarning: IProgress not found. Please update jupyter and ipywidgets. See https://ipywidgets.readthedocs.io/en/stable/user_install.html\n",
      "  from .autonotebook import tqdm as notebook_tqdm\n",
      "c:\\Python311\\Lib\\site-packages\\pydantic\\_internal\\_fields.py:161: UserWarning: Field \"model_id\" has conflict with protected namespace \"model_\".\n",
      "\n",
      "You may be able to resolve this warning by setting `model_config['protected_namespaces'] = ()`.\n",
      "  warnings.warn(\n",
      "c:\\Python311\\Lib\\site-packages\\pydantic\\_internal\\_fields.py:161: UserWarning: Field \"model_name\" has conflict with protected namespace \"model_\".\n",
      "\n",
      "You may be able to resolve this warning by setting `model_config['protected_namespaces'] = ()`.\n",
      "  warnings.warn(\n",
      "c:\\Python311\\Lib\\site-packages\\pydantic\\_internal\\_fields.py:161: UserWarning: Field \"model_kwargs\" has conflict with protected namespace \"model_\".\n",
      "\n",
      "You may be able to resolve this warning by setting `model_config['protected_namespaces'] = ()`.\n",
      "  warnings.warn(\n"
     ]
    },
    {
     "name": "stdout",
     "output_type": "stream",
     "text": [
      "WARNING:tensorflow:From c:\\Python311\\Lib\\site-packages\\keras\\src\\losses.py:2976: The name tf.losses.sparse_softmax_cross_entropy is deprecated. Please use tf.compat.v1.losses.sparse_softmax_cross_entropy instead.\n",
      "\n"
     ]
    },
    {
     "name": "stderr",
     "output_type": "stream",
     "text": [
      "c:\\Python311\\Lib\\site-packages\\pydantic\\_internal\\_fields.py:161: UserWarning: Field \"model_name\" has conflict with protected namespace \"model_\".\n",
      "\n",
      "You may be able to resolve this warning by setting `model_config['protected_namespaces'] = ()`.\n",
      "  warnings.warn(\n"
     ]
    },
    {
     "name": "stdout",
     "output_type": "stream",
     "text": [
      "resource module not available on Windows\n"
     ]
    }
   ],
   "source": [
    "import pdfplumber\n",
    "from llama_index.core import SimpleDirectoryReader, Document, VectorStoreIndex, StorageContext,  ChatPromptTemplate\n",
    "from llama_index.core.node_parser import SentenceSplitter, TokenTextSplitter, SentenceWindowNodeParser, SemanticSplitterNodeParser\n",
    "# from llama_index.embeddings.openai import OpenAIEmbedding\n",
    "from llama_index.embeddings.huggingface import HuggingFaceEmbedding\n",
    "from llama_index.vector_stores.pinecone import PineconeVectorStore\n",
    "from llama_index.core import Settings\n",
    "\n",
    "from llama_index.core.extractors import (\n",
    "    SummaryExtractor,\n",
    "    QuestionsAnsweredExtractor,\n",
    "    TitleExtractor,\n",
    "    KeywordExtractor,\n",
    ")\n",
    "\n",
    "\n",
    "from llama_index.core.ingestion import IngestionPipeline\n",
    "from llama_index.llms.huggingface import HuggingFaceLLM, HuggingFaceInferenceAPI\n",
    "from llama_index.llms.openai import OpenAI\n",
    "from llama_index.extractors.entity import EntityExtractor\n",
    "from llama_index.core.indices.query.query_transform import HyDEQueryTransform\n",
    "from llama_index.core.query_engine import TransformQueryEngine\n",
    "from llama_index.core import PromptTemplate\n",
    "\n",
    "\n",
    "\n",
    "# from llama_index.core.postprocessor import LLMRerank, SentenceTransformerRerank\n",
    "# from llama_index.postprocessor.cohere_rerank import CohereRerank\n",
    "from llama_index.core.storage.docstore import SimpleDocumentStore\n",
    "from llama_index.core.retrievers import QueryFusionRetriever\n",
    "from llama_index.retrievers.bm25 import BM25Retriever\n",
    "from llama_index.postprocessor.cohere_rerank import CohereRerank\n",
    "from llama_index.core.query_engine import RetrieverQueryEngine\n",
    "from llama_index.core.response.pprint_utils import pprint_response\n",
    "from llama_index.core.response.notebook_utils import display_source_node\n",
    "\n",
    "\n",
    "import openai\n",
    "from pinecone import Pinecone\n",
    "import pinecone\n",
    "import os\n",
    "from dotenv import load_dotenv"
   ]
  },
  {
   "cell_type": "code",
   "execution_count": 2,
   "metadata": {},
   "outputs": [],
   "source": [
    "import asyncio\n",
    "import nest_asyncio\n",
    "nest_asyncio.apply()"
   ]
  },
  {
   "cell_type": "code",
   "execution_count": 3,
   "metadata": {},
   "outputs": [
    {
     "data": {
      "text/plain": [
       "True"
      ]
     },
     "execution_count": 3,
     "metadata": {},
     "output_type": "execute_result"
    }
   ],
   "source": [
    "load_dotenv()"
   ]
  },
  {
   "cell_type": "code",
   "execution_count": 4,
   "metadata": {},
   "outputs": [],
   "source": [
    "\n",
    "pc = Pinecone(api_key = os.environ[\"PINECONE_API_KEY\"])"
   ]
  },
  {
   "cell_type": "code",
   "execution_count": 5,
   "metadata": {},
   "outputs": [],
   "source": [
    "openai.api_key = os.environ[\"OPEN_AI_KEY\"]\n"
   ]
  },
  {
   "cell_type": "code",
   "execution_count": 6,
   "metadata": {},
   "outputs": [
    {
     "name": "stderr",
     "output_type": "stream",
     "text": [
      "c:\\Python311\\Lib\\site-packages\\torch\\_utils.py:831: UserWarning: TypedStorage is deprecated. It will be removed in the future and UntypedStorage will be the only storage class. This should only matter to you if you are using storages directly.  To access UntypedStorage directly, use tensor.untyped_storage() instead of tensor.storage()\n",
      "  return self.fget.__get__(instance, owner)()\n"
     ]
    }
   ],
   "source": [
    "embbeding_model = HuggingFaceEmbedding(model_name=\"BAAI/bge-m3\")"
   ]
  },
  {
   "cell_type": "code",
   "execution_count": null,
   "metadata": {},
   "outputs": [],
   "source": []
  },
  {
   "cell_type": "code",
   "execution_count": 275,
   "metadata": {},
   "outputs": [],
   "source": [
    "# embbeding_model._embed(\"Tôi là Tài\")"
   ]
  },
  {
   "cell_type": "markdown",
   "metadata": {},
   "source": [
    "## Processing, Chunking and storing data"
   ]
  },
  {
   "cell_type": "code",
   "execution_count": 38,
   "metadata": {},
   "outputs": [],
   "source": [
    "reader = SimpleDirectoryReader(input_dir=r\"C:\\Users\\leduc\\OneDrive\\Desktop\\NLP\\LLM-Agent\\AI _solution\\sample-data\")\n",
    "documents = reader.load_data(num_workers=4)"
   ]
  },
  {
   "cell_type": "code",
   "execution_count": 39,
   "metadata": {},
   "outputs": [
    {
     "data": {
      "text/plain": [
       "<bound method TextNode.get_content of Document(id_='7c85ef8a-6cf1-4124-be73-ebaf4fcac1fb', embedding=None, metadata={'file_path': 'C:\\\\Users\\\\leduc\\\\OneDrive\\\\Desktop\\\\NLP\\\\LLM-Agent\\\\AI _solution\\\\sample-data\\\\text_0.txt', 'file_name': 'text_0.txt', 'file_type': 'text/plain', 'file_size': 598, 'creation_date': '2024-12-14', 'last_modified_date': '2024-08-06'}, excluded_embed_metadata_keys=['file_name', 'file_type', 'file_size', 'creation_date', 'last_modified_date', 'last_accessed_date'], excluded_llm_metadata_keys=['file_name', 'file_type', 'file_size', 'creation_date', 'last_modified_date', 'last_accessed_date'], relationships={}, metadata_template='{key}: {value}', metadata_separator='\\n', text='Môn học Kiến trúc hệ thống và Tích hợp hệ thống (IE302) giới thiệu các khái niệm về thu thập yêu cầu, tìm nguồn cung ứng, đánh giá và tích hợp các thành phần vào một hệ thống thống nhất. Nội dung môn học bao gồm các nguyên tắc quản lý dự án, sự liên kết giữa các ứng dụng CNTT và quy trình tổ chức. Sinh viên sẽ được trang bị kiến thức về quản lý dự án, kiểm định và đảm bảo chất lượng, tích hợp và phát triển hệ thống, cũng như tìm nguồn cung ứng.', mimetype='text/plain', start_char_idx=None, end_char_idx=None, metadata_seperator='\\n', text_template='{metadata_str}\\n\\n{content}')>"
      ]
     },
     "execution_count": 39,
     "metadata": {},
     "output_type": "execute_result"
    }
   ],
   "source": [
    "documents[0].get_content"
   ]
  },
  {
   "cell_type": "code",
   "execution_count": 7,
   "metadata": {},
   "outputs": [
    {
     "name": "stderr",
     "output_type": "stream",
     "text": [
      "C:\\Users\\leduc\\AppData\\Local\\Temp\\ipykernel_10160\\3330286725.py:2: DeprecationWarning: Call to deprecated class HuggingFaceInferenceAPI. (Deprecated in favor of `HuggingFaceInferenceAPI` from `llama-index-llms-huggingface-api` which should be used instead.)\n",
      "  llm = HuggingFaceInferenceAPI(model_name=\"mistralai/Mistral-7B-Instruct-v0.2\", token=os.environ[\"HF_TOKEN\"])\n"
     ]
    }
   ],
   "source": [
    "# llm = HuggingFaceLLM(model_name=\"vinai/phobert-base\")\n",
    "llm = HuggingFaceInferenceAPI(model_name=\"mistralai/Mistral-7B-Instruct-v0.2\", token=os.environ[\"HF_TOKEN\"])"
   ]
  },
  {
   "cell_type": "code",
   "execution_count": 8,
   "metadata": {},
   "outputs": [],
   "source": [
    "Settings.llm = llm\n",
    "Settings.embed_model = embbeding_model"
   ]
  },
  {
   "cell_type": "code",
   "execution_count": 109,
   "metadata": {},
   "outputs": [],
   "source": [
    "FAQ_prompt = \"\"\"Ensure the questions are well-structured, grammatically correct, and contextually accurate.\n",
    "You are a Vietnamese language expert and question-generation specialist. Based on the following context, generate exactly three concise, thoughtful, and relevant questions in Vietnamese. \n",
    "\n",
    "### Context:\n",
    "{context_str}\n",
    "\n",
    "### Guidelines:\n",
    "1. The questions should focus on extracting meaningful insights or prompting further discussion about the context.\n",
    "2. Only based on information about course information do not care about files information\n",
    "3. Use natural and conversational Vietnamese suitable for the intended audience.\n",
    "4. Avoid repetition and ensure each question addresses a distinct aspect of the context.\n",
    "5. remove all special token\n",
    "6. Generate {num_questions}\n",
    "\n",
    "### Example Output:\n",
    "If the context is about environmental protection:\n",
    "1. Bạn nghĩ gì về vai trò của giáo dục trong việc bảo vệ môi trường?\n",
    "2. Những giải pháp nào có thể giúp giảm thiểu rác thải nhựa trong cuộc sống hàng ngày?\n",
    "3. Làm thế nào cộng đồng có thể hợp tác để cải thiện chất lượng không khí?\n",
    "\n",
    "### Output:\n",
    "\n",
    "\n",
    "\n",
    "\"\"\""
   ]
  },
  {
   "cell_type": "code",
   "execution_count": 110,
   "metadata": {},
   "outputs": [],
   "source": [
    "keyword_prompt = {\n",
    "  \"context\": \"You are a Vietnamese language expert and Vietnamese keywords identifier specialist.\",\n",
    "  \"task\": \"Generate {keywords} unique keywords for this document.\",\n",
    "  \"document\": \"{context_str}\",\n",
    "  \"guidelines\": [\n",
    "    \"Only based on information about course information do not care about files information.\",\n",
    "    \"MUST NOT return any explanation.\",\n",
    "    \"Answer in Vietnamese.\",\n",
    "    # \"Remove all special characters like brackets or code\",\n",
    "    # \"Answer must be consistent\"\n",
    "  ],\n",
    "  \"examples\":[\n",
    "    \"CS115, Toán, Khoa Học Máy Tính, 2023\",\n",
    "    \"CE231, Tin học, Phần mềm\",\n",
    "    \"SE112, Robotic, Vi mạch\"  \n",
    "  ],\n",
    "  \"output_format\": \"keywords: \"\n",
    "}\n",
    "import json\n",
    "\n",
    "keyword_prompt = json.dumps(keyword_prompt, ensure_ascii=False, indent=4)"
   ]
  },
  {
   "cell_type": "code",
   "execution_count": 111,
   "metadata": {},
   "outputs": [],
   "source": [
    "splitter = SemanticSplitterNodeParser(\n",
    "    buffer_size=2, breakpoint_percentile_threshold=80, embed_model=embbeding_model\n",
    ")\n"
   ]
  },
  {
   "cell_type": "code",
   "execution_count": 112,
   "metadata": {},
   "outputs": [],
   "source": [
    "transformations = [\n",
    "    splitter,\n",
    "    KeywordExtractor(keywords=1, llm=llm, prompt_template= keyword_prompt),\n",
    "    QuestionsAnsweredExtractor(questions=1, llm=llm, prompt_template= FAQ_prompt)\n",
    "]"
   ]
  },
  {
   "cell_type": "code",
   "execution_count": 113,
   "metadata": {},
   "outputs": [],
   "source": [
    "pipeline = IngestionPipeline(transformations=transformations)"
   ]
  },
  {
   "cell_type": "code",
   "execution_count": 114,
   "metadata": {},
   "outputs": [
    {
     "name": "stderr",
     "output_type": "stream",
     "text": [
      "100%|██████████| 13/13 [00:03<00:00,  3.58it/s]\n",
      "100%|██████████| 13/13 [00:14<00:00,  1.15s/it]\n"
     ]
    }
   ],
   "source": [
    "nodes = pipeline.run(documents=documents)"
   ]
  },
  {
   "cell_type": "code",
   "execution_count": 115,
   "metadata": {},
   "outputs": [],
   "source": [
    "import re\n",
    "\n",
    "def clean_text(text):\n",
    "\n",
    "    text = re.sub(r'\\d+\\.\\s*', '', text)  \n",
    "    \n",
    "\n",
    "    \n",
    "    text = re.sub(r'-', ' ', text)\n",
    "    text = re.sub(r'\"', ' ', text)\n",
    "    text = text.replace('\\n', ' ').strip()\n",
    "    text = re.sub(r'\\s+', ' ', text) \n",
    "    text = re.sub(r'\\bkeywords: ', '', text)\n",
    "    text = text.strip()\n",
    "    \n",
    "    return text"
   ]
  },
  {
   "cell_type": "code",
   "execution_count": 118,
   "metadata": {},
   "outputs": [
    {
     "data": {
      "text/plain": [
       "{'file_path': 'C:\\\\Users\\\\leduc\\\\OneDrive\\\\Desktop\\\\NLP\\\\LLM-Agent\\\\AI _solution\\\\sample-data\\\\text_0.txt',\n",
       " 'file_name': 'text_0.txt',\n",
       " 'file_type': 'text/plain',\n",
       " 'file_size': 598,\n",
       " 'creation_date': '2024-12-14',\n",
       " 'last_modified_date': '2024-08-06',\n",
       " 'excerpt_keywords': 'keywords: Kiến trúc hệ thống, Tích hợp hệ thống, IE302, Quản lý dự án, Quy trình tổ chức, Ứng dụng CNTT, Chất lượng, Tìm nguồn cung ứng.',\n",
       " 'questions_this_excerpt_can_answer': '1. Bạn học môn nào đó gọi là Kiến trúc hệ thống và Tích hợp hệ thống (IE302)?\\n2. Trong môn học này, sinh viên sẽ được học đến gì về quản lý dự án?\\n3. Tại sao ứng dụng CNTT liên kết với quy trình tổ chức trong môn học này?'}"
      ]
     },
     "execution_count": 118,
     "metadata": {},
     "output_type": "execute_result"
    }
   ],
   "source": [
    "nodes[0].metadata"
   ]
  },
  {
   "cell_type": "code",
   "execution_count": 116,
   "metadata": {},
   "outputs": [
    {
     "name": "stdout",
     "output_type": "stream",
     "text": [
      "Kiến trúc hệ thống, Tích hợp hệ thống, IE302, Quản lý dự án, Quy trình tổ chức, Ứng dụng CNTT, Chất lượng, Tìm nguồn cung ứng.\n",
      "Toán, CS115, Khoa học máy tính, Toán ứng dụng, Máy học, Trí tuệ nhân tạo, Khai phá dữ liệu, Xử lý tín hiệu số.\n",
      "Môn Thực tập NT115, doanh nghiệp, kinh nghiệm\n",
      "Ngành Công nghệ Thông tin, Áp dụng từ Khoá 18, 2023, Chính quy tập trung, Số tín chỉ đào tạo, Tối thiểu 132 tín chỉ, Ngoại ngữ.\n",
      "Thời gian đào tạo, 04 năm, 8 học kỳ chính.\n",
      "Môn học NT505, Khóa luận tốt nghiệp, An ninh Thông tin, quy trình vận hành, hệ thống triển khai, đánh giá, phát triển tiếp theo.\n",
      "kết quả nghiên cứu, đối tượng sinh viên, đề tài khóa luận, nhu cầu thực tế, giảng viên, chuyên sâu, khả năng nghiên cứu, làm việc độc lập.\n",
      "CE407, Hệ thống nhúng và Robot, Chuyên ngành, Sinh viên, Học chuyên đề tốt nghiệp, Kiến thức, Tìm hiểu, Nghiên cứu, Giải quyết bài toán, Kỹ năng thiết kế, Kỹ thuật máy tính, Thuyết trình, Giao tiếp, Làm việc nhóm.\n",
      "Môn học, hệ thống nhúng.\n",
      "Phát triển và vận hành game (SE327)\n",
      "Chuyên ngành Hệ thống Thông tin, Hình thức đào tạo Chính quy tập trung, Số tín chỉ đào tạo Tối thiểu 134, Thời gian đào tạo 4 năm Note: The keywords are in Vietnamese and follow the format ... .\n",
      "Môn Nhập môn mạng máy tính, mã IT005, kiến thức cơ bản, mạng máy tính, truyền dữ liệu, dịch vụ mạng, kỹ thuật mạng không dây.\n",
      "Xử lý ngôn ngữ tự nhiên, CS221, Môn học, Chuyên ngành, Văn phạm CFG, Văn phạm DCG, Prolog, FSA.\n"
     ]
    }
   ],
   "source": [
    "for i in range(0, len(nodes)):\n",
    "    # print(nodes[i].metadata[\"excerpt_keywords\"])\n",
    "    print(clean_text(nodes[i].metadata[\"excerpt_keywords\"]))"
   ]
  },
  {
   "cell_type": "code",
   "execution_count": 92,
   "metadata": {},
   "outputs": [],
   "source": [
    "import re\n",
    "course_code_pattern = r\"\\b[A-Z]{2}[0-9]{3}\\b\""
   ]
  },
  {
   "cell_type": "code",
   "execution_count": 93,
   "metadata": {},
   "outputs": [
    {
     "data": {
      "text/plain": [
       "['CS221', 'SE221', 'IE690']"
      ]
     },
     "execution_count": 93,
     "metadata": {},
     "output_type": "execute_result"
    }
   ],
   "source": [
    "doc = \"Môn học CS221 về Xử lý ngôn ngữ tự nhiên SE221 nhằm cung cấp cho sinh IE690 viên những kiến thức cơ bản về chuyên ngành này, bao gồm văn phạm phi ngữ cảnh CFG, văn phạm DCG, cách cài đặt và giải thích cơ chế xử lý văn phạm DCG trên Prolog, và FSA.\"\n",
    "\n",
    "re.findall(course_code_pattern, doc)"
   ]
  },
  {
   "cell_type": "code",
   "execution_count": 94,
   "metadata": {},
   "outputs": [],
   "source": [
    "for i in range(0,len(nodes)):\n",
    "    # print(re.findall(course_code_pattern, nodes[i].text))\n",
    "    nodes[i].metadata[\"course\"] = re.findall(course_code_pattern, nodes[i].text)"
   ]
  },
  {
   "cell_type": "code",
   "execution_count": 95,
   "metadata": {},
   "outputs": [
    {
     "data": {
      "text/plain": [
       "{'file_path': 'C:\\\\Users\\\\leduc\\\\OneDrive\\\\Desktop\\\\NLP\\\\LLM-Agent\\\\AI _solution\\\\sample-data\\\\text_2.txt',\n",
       " 'file_name': 'text_2.txt',\n",
       " 'file_type': 'text/plain',\n",
       " 'file_size': 538,\n",
       " 'creation_date': '2024-12-14',\n",
       " 'last_modified_date': '2024-08-06',\n",
       " 'excerpt_keywords': '\"keywords: Môn Thực tập NT115, doanh nghiệp, kinh nghiệm\"',\n",
       " 'course': ['NT115']}"
      ]
     },
     "execution_count": 95,
     "metadata": {},
     "output_type": "execute_result"
    }
   ],
   "source": [
    "nodes[2].metadata"
   ]
  },
  {
   "cell_type": "code",
   "execution_count": 293,
   "metadata": {},
   "outputs": [
    {
     "data": {
      "text/plain": [
       "13"
      ]
     },
     "execution_count": 293,
     "metadata": {},
     "output_type": "execute_result"
    }
   ],
   "source": [
    "len(nodes)"
   ]
  },
  {
   "cell_type": "code",
   "execution_count": 96,
   "metadata": {},
   "outputs": [],
   "source": [
    "splitted_documents = [Document(text=node.text, metadata={\"course\": node.metadata[\"course\"], \"excerpt_keywords\": node.metadata[\"excerpt_keywords\"]}) for node in nodes]"
   ]
  },
  {
   "cell_type": "code",
   "execution_count": 97,
   "metadata": {},
   "outputs": [
    {
     "data": {
      "text/plain": [
       "[Document(id_='9ce860db-ab93-400c-97ba-7cd665db9ae0', embedding=None, metadata={'course': ['IE302'], 'excerpt_keywords': 'keywords: Kiến trúc hệ thống, Tích hợp hệ thống, IE302, Quản lý dự án, Quy trình tổ chức, Ứng dụng CNTT, Chất lượng, Tìm nguồn cung ứng.'}, excluded_embed_metadata_keys=[], excluded_llm_metadata_keys=[], relationships={}, metadata_template='{key}: {value}', metadata_separator='\\n', text='Môn học Kiến trúc hệ thống và Tích hợp hệ thống (IE302) giới thiệu các khái niệm về thu thập yêu cầu, tìm nguồn cung ứng, đánh giá và tích hợp các thành phần vào một hệ thống thống nhất. Nội dung môn học bao gồm các nguyên tắc quản lý dự án, sự liên kết giữa các ứng dụng CNTT và quy trình tổ chức. Sinh viên sẽ được trang bị kiến thức về quản lý dự án, kiểm định và đảm bảo chất lượng, tích hợp và phát triển hệ thống, cũng như tìm nguồn cung ứng.', mimetype='text/plain', start_char_idx=None, end_char_idx=None, metadata_seperator='\\n', text_template='{metadata_str}\\n\\n{content}'),\n",
       " Document(id_='36966888-d8c0-4306-b86e-1a02b3c91ae8', embedding=None, metadata={'course': ['CS115'], 'excerpt_keywords': 'keywords: Toán, CS115, Khoa học máy tính, Toán ứng dụng, Máy học, Trí tuệ nhân tạo, Khai phá dữ liệu, Xử lý tín hiệu số.'}, excluded_embed_metadata_keys=[], excluded_llm_metadata_keys=[], relationships={}, metadata_template='{key}: {value}', metadata_separator='\\n', text='Mã môn học của môn Toán cho Khoa học máy tính là CS115. Tóm tắt nội dung môn học như sau: Môn này cung cấp kiến thức về Toán ứng dụng trong các lĩnh vực như máy học, trí tuệ nhân tạo, khai phá dữ liệu và xử lý tín hiệu số.', mimetype='text/plain', start_char_idx=None, end_char_idx=None, metadata_seperator='\\n', text_template='{metadata_str}\\n\\n{content}'),\n",
       " Document(id_='96280d45-0d20-4d33-9aec-a74910facccb', embedding=None, metadata={'course': ['NT115'], 'excerpt_keywords': '\"keywords: Môn Thực tập NT115, doanh nghiệp, kinh nghiệm\"'}, excluded_embed_metadata_keys=[], excluded_llm_metadata_keys=[], relationships={}, metadata_template='{key}: {value}', metadata_separator='\\n', text='Môn Thực tập doanh nghiệp mang mã NT115, bao gồm chương trình thực tập cuối khóa tại các doanh nghiệp, cơ quan sự nghiệp trong lĩnh vực liên quan. Mục tiêu là cho sinh viên cơ hội trải nghiệm môi trường nghề nghiệp thực tế, làm quen với các công việc và tích lũy kinh nghiệm. Trong quá trình thực tập, sinh viên sẽ học hỏi từ các chuyên gia, trực tiếp xử lý các tình huống phát sinh trong phạm vi chuyên môn mà họ đã lựa chọn.', mimetype='text/plain', start_char_idx=None, end_char_idx=None, metadata_seperator='\\n', text_template='{metadata_str}\\n\\n{content}'),\n",
       " Document(id_='5318d8ed-d289-4c2b-84df-3834646a109d', embedding=None, metadata={'course': [], 'excerpt_keywords': 'keywords: Ngành Công nghệ Thông tin, Áp dụng từ Khoá 18, 2023, Chính quy tập trung, Số tín chỉ đào tạo, Tối thiểu 132 tín chỉ, Ngoại ngữ.'}, excluded_embed_metadata_keys=[], excluded_llm_metadata_keys=[], relationships={}, metadata_template='{key}: {value}', metadata_separator='\\n', text='Cử nhân ngành Công nghệ Thông tin (Áp dụng từ Khoá 18 - 2023) ngành công nghệ thông tin việt nhật. Hình thức đào tạo: Chính quy tập trung. Số tín chỉ đào tạo: Tối thiểu 132 tín chỉ (bao gồm cả ngoại ngữ). ', mimetype='text/plain', start_char_idx=None, end_char_idx=None, metadata_seperator='\\n', text_template='{metadata_str}\\n\\n{content}'),\n",
       " Document(id_='59efbf36-4794-4397-85bf-d894b19fa9ba', embedding=None, metadata={'course': [], 'excerpt_keywords': 'keywords: Thời gian đào tạo, 04 năm, 8 học kỳ chính.'}, excluded_embed_metadata_keys=[], excluded_llm_metadata_keys=[], relationships={}, metadata_template='{key}: {value}', metadata_separator='\\n', text='Thời gian đào tạo: 04 năm (8 học kỳ chính).', mimetype='text/plain', start_char_idx=None, end_char_idx=None, metadata_seperator='\\n', text_template='{metadata_str}\\n\\n{content}'),\n",
       " Document(id_='57ca5ba7-af90-42e0-b07a-8cffb3b14be4', embedding=None, metadata={'course': ['NT505'], 'excerpt_keywords': 'keywords: Môn học NT505, Khóa luận tốt nghiệp, An ninh Thông tin, quy trình vận hành, hệ thống triển khai, đánh giá, phát triển tiếp theo.'}, excluded_embed_metadata_keys=[], excluded_llm_metadata_keys=[], relationships={}, metadata_template='{key}: {value}', metadata_separator='\\n', text='Môn học có mã NT505, mang tên Khóa luận tốt nghiệp, là một công trình nghiên cứu mang tính khoa học dành cho sinh viên theo đuổi chương trình cử nhân tài năng ngành An ninh Thông tin. Đề tài khóa luận phải được nghiên cứu và triển khai một cách chuyên sâu, thể hiện khả năng độc lập trong quá trình làm việc của sinh viên. Khóa luận cần làm rõ những vấn đề do sinh viên thực hiện dưới sự hướng dẫn của giảng viên, chẳng hạn như các ứng dụng, quy trình vận hành, hệ thống triển khai và đánh giá cùng định hướng phát triển tiếp theo của đề tài. ', mimetype='text/plain', start_char_idx=None, end_char_idx=None, metadata_seperator='\\n', text_template='{metadata_str}\\n\\n{content}'),\n",
       " Document(id_='39f0cd13-ca56-432c-b2d6-193bedf31914', embedding=None, metadata={'course': [], 'excerpt_keywords': 'keywords: kết quả nghiên cứu, đối tượng sinh viên, đề tài khóa luận, nhu cầu thực tế, giảng viên, chuyên sâu, khả năng nghiên cứu, làm việc độc lập.'}, excluded_embed_metadata_keys=[], excluded_llm_metadata_keys=[], relationships={}, metadata_template='{key}: {value}', metadata_separator='\\n', text='Kết quả nghiên cứu do sinh viên thực hiện được nêu rõ trong khóa luận, đây là thành tố quan trọng nhất. Đối với đối tượng sinh viên trong chương trình đào tạo tài năng, đề tài khóa luận sẽ gắn liền với nhu cầu thực tế, được thực hiện dưới sự hướng dẫn của các giảng viên có trình độ Tiến sĩ trở lên. Đề tài nghiên cứu chuyên sâu này sẽ phản ánh khả năng nghiên cứu và làm việc độc lập của sinh viên.', mimetype='text/plain', start_char_idx=None, end_char_idx=None, metadata_seperator='\\n', text_template='{metadata_str}\\n\\n{content}'),\n",
       " Document(id_='2d3387a1-cd27-4acd-ba75-85707e0682ad', embedding=None, metadata={'course': ['CE407'], 'excerpt_keywords': 'keywords: CE407, Hệ thống nhúng và Robot, Chuyên ngành, Sinh viên, Học chuyên đề tốt nghiệp, Kiến thức, Tìm hiểu, Nghiên cứu, Giải quyết bài toán, Kỹ năng thiết kế, Kỹ thuật máy tính, Thuyết trình, Giao tiếp, Làm việc nhóm.'}, excluded_embed_metadata_keys=[], excluded_llm_metadata_keys=[], relationships={}, metadata_template='{key}: {value}', metadata_separator='\\n', text='Môn học CE407 - Đồ án chuyên ngành Hệ thống nhúng và Robot dành cho sinh viên học chuyên đề tốt nghiệp. Đồ án này giúp sinh viên phát triển kỹ năng thiết kế hệ thống nhúng và robot. Sau khi hoàn thành môn học, sinh viên sẽ có kiến thức tổng hợp về chuyên ngành hệ thống nhúng và robot, kỹ năng tìm hiểu, nghiên cứu và giải quyết bài toán trong lĩnh vực hệ thống nhúng, kỹ thuật máy tính, cũng như kỹ năng thuyết trình, giao tiếp và làm việc nhóm. ', mimetype='text/plain', start_char_idx=None, end_char_idx=None, metadata_seperator='\\n', text_template='{metadata_str}\\n\\n{content}'),\n",
       " Document(id_='9d7522cb-3df2-478d-bd7b-f5108604b6e9', embedding=None, metadata={'course': [], 'excerpt_keywords': 'keywords: Môn học, hệ thống nhúng.'}, excluded_embed_metadata_keys=[], excluded_llm_metadata_keys=[], relationships={}, metadata_template='{key}: {value}', metadata_separator='\\n', text='Môn học cũng khuyến khích thái độ làm việc tích cực trong lĩnh vực hệ thống nhúng.', mimetype='text/plain', start_char_idx=None, end_char_idx=None, metadata_seperator='\\n', text_template='{metadata_str}\\n\\n{content}'),\n",
       " Document(id_='aa25b986-fc44-48bd-90b2-6eb2fddbe01c', embedding=None, metadata={'course': ['SE327'], 'excerpt_keywords': '\"keywords: Phát triển và vận hành game (SE327)\"'}, excluded_embed_metadata_keys=[], excluded_llm_metadata_keys=[], relationships={}, metadata_template='{key}: {value}', metadata_separator='\\n', text='Môn học \"Phát triển và vận hành game\" với mã môn học là SE327, cung cấp những kiến thức cơ bản về quy trình tạo ra và quản lý một trò chơi trực tuyến. Nội dung học tập bao gồm các thể loại game từ bình thường, hành động, chiến lược cho đến nhập vai trực tuyến nhiều người chơi độc lập hoặc trên nền tảng mạng xã hội.', mimetype='text/plain', start_char_idx=None, end_char_idx=None, metadata_seperator='\\n', text_template='{metadata_str}\\n\\n{content}'),\n",
       " Document(id_='dfeeed50-29a2-4569-a5c3-758d0da85448', embedding=None, metadata={'course': [], 'excerpt_keywords': 'keywords: Chuyên ngành Hệ thống Thông tin, Hình thức đào tạo Chính quy tập trung, Số tín chỉ đào tạo Tối thiểu 134, Thời gian đào tạo 4 năm\\n\\nNote: The keywords are in Vietnamese and follow the format \"keywords: ...\".'}, excluded_embed_metadata_keys=[], excluded_llm_metadata_keys=[], relationships={}, metadata_template='{key}: {value}', metadata_separator='\\n', text='Cử nhân ngành Hệ thống Thông tin (Áp dụng từ khóa 18 - 2023) Hình thức đào tạo: Chính quy tập trung. Số tín chỉ đào tạo: Tối thiểu 134 (bao gồm cả ngoại ngữ) Thời gian đào tạo: 4 năm (8 học kỳ chính).', mimetype='text/plain', start_char_idx=None, end_char_idx=None, metadata_seperator='\\n', text_template='{metadata_str}\\n\\n{content}'),\n",
       " Document(id_='5fc4144d-9d97-48fa-b415-975ca72d3d39', embedding=None, metadata={'course': ['IT005'], 'excerpt_keywords': 'keywords: Môn Nhập môn mạng máy tính, mã IT005, kiến thức cơ bản, mạng máy tính, truyền dữ liệu, dịch vụ mạng, kỹ thuật mạng không dây.'}, excluded_embed_metadata_keys=[], excluded_llm_metadata_keys=[], relationships={}, metadata_template='{key}: {value}', metadata_separator='\\n', text='Môn Nhập môn mạng máy tính với mã IT005 cung cấp kiến thức cơ bản về các khái niệm như mạng máy tính, truyền dữ liệu, dịch vụ mạng và kỹ thuật mạng không dây.', mimetype='text/plain', start_char_idx=None, end_char_idx=None, metadata_seperator='\\n', text_template='{metadata_str}\\n\\n{content}'),\n",
       " Document(id_='eca6ac81-1d3a-4e53-846d-b87329b78f25', embedding=None, metadata={'course': ['CS221'], 'excerpt_keywords': 'keywords: Xử lý ngôn ngữ tự nhiên, CS221, Môn học, Chuyên ngành, Văn phạm CFG, Văn phạm DCG, Prolog, FSA.'}, excluded_embed_metadata_keys=[], excluded_llm_metadata_keys=[], relationships={}, metadata_template='{key}: {value}', metadata_separator='\\n', text='Môn học CS221  về Xử lý ngôn ngữ tự nhiên nhằm cung cấp cho sinh viên những kiến thức cơ bản về chuyên ngành này, bao gồm văn phạm phi ngữ cảnh CFG, văn phạm DCG, cách cài đặt và giải thích cơ chế xử lý văn phạm DCG trên Prolog, và FSA.', mimetype='text/plain', start_char_idx=None, end_char_idx=None, metadata_seperator='\\n', text_template='{metadata_str}\\n\\n{content}')]"
      ]
     },
     "execution_count": 97,
     "metadata": {},
     "output_type": "execute_result"
    }
   ],
   "source": [
    "splitted_documents"
   ]
  },
  {
   "cell_type": "code",
   "execution_count": 296,
   "metadata": {},
   "outputs": [],
   "source": [
    "pinecone_index = pinecone.Index(host=\"https://agent-quoor8m.svc.aped-4627-b74a.pinecone.io\", api_key= os.environ[\"PINECONE_API_KEY\"])"
   ]
  },
  {
   "cell_type": "code",
   "execution_count": 297,
   "metadata": {},
   "outputs": [],
   "source": [
    "storage_context = StorageContext.from_defaults(\n",
    "    vector_store=PineconeVectorStore(pinecone_index)\n",
    ")"
   ]
  },
  {
   "cell_type": "code",
   "execution_count": 298,
   "metadata": {},
   "outputs": [
    {
     "name": "stderr",
     "output_type": "stream",
     "text": [
      "Upserted vectors: 100%|██████████| 13/13 [00:03<00:00,  3.91it/s]\n"
     ]
    }
   ],
   "source": [
    "# index = VectorStoreIndex.from_documents(documents, embed_model=embed_model)\n",
    "index = VectorStoreIndex.from_documents(splitted_documents, storage_context=storage_context, embed_model= embbeding_model)"
   ]
  },
  {
   "cell_type": "markdown",
   "metadata": {},
   "source": [
    "## Query transformation"
   ]
  },
  {
   "cell_type": "code",
   "execution_count": 32,
   "metadata": {},
   "outputs": [],
   "source": [
    "from IPython.display import Markdown, display"
   ]
  },
  {
   "cell_type": "code",
   "execution_count": 33,
   "metadata": {},
   "outputs": [],
   "source": [
    "\n",
    "def display_prompt_dict(prompts_dict):\n",
    "    for k, p in prompts_dict.items():\n",
    "        text_md = f\"**Prompt Key**: {k}\" f\"**Text:** \"\n",
    "        display(Markdown(text_md))\n",
    "        print(p.get_template())\n",
    "        display(Markdown(\"\"))"
   ]
  },
  {
   "cell_type": "code",
   "execution_count": 61,
   "metadata": {},
   "outputs": [],
   "source": [
    "example_query_prompt = \"\"\"\n",
    "You are a Vietnamese language expert. \n",
    "\n",
    "### Guidelines:\n",
    "1. Response with Vietnamses\n",
    "2. Only based on information about course information do not care about files information\n",
    "3. Use natural and conversational Vietnamese suitable for the intended audience.\n",
    "4. Avoid repetition and ensure each question addresses a distinct aspect of the context.\n",
    "5. remove all special token\n",
    "6. you can not have an answer just reponse you don't know.\n",
    "7. Do not Hallucinate if you don't know the answer.\n",
    "8. Do not repeat the question.\n",
    "9. If you see some mismatch between course name and course code you must return a notification\n",
    "\n",
    "let's think step by step\n",
    "\n",
    "response the question based on context:\n",
    "\n",
    "question: {query_str}\n",
    "\n",
    "\n",
    "\n",
    "context: {context_str}\n",
    "\n",
    "answer:\n",
    "\n",
    "\"\"\"\n",
    "\n",
    "example_query_prompt = PromptTemplate(example_query_prompt)"
   ]
  },
  {
   "cell_type": "code",
   "execution_count": 35,
   "metadata": {},
   "outputs": [],
   "source": [
    "query_engine = index.as_query_engine(llm=llm)"
   ]
  },
  {
   "cell_type": "code",
   "execution_count": 36,
   "metadata": {},
   "outputs": [
    {
     "data": {
      "text/markdown": [
       "**Prompt Key**: response_synthesizer:text_qa_template**Text:** "
      ],
      "text/plain": [
       "<IPython.core.display.Markdown object>"
      ]
     },
     "metadata": {},
     "output_type": "display_data"
    },
    {
     "name": "stdout",
     "output_type": "stream",
     "text": [
      "Context information is below.\n",
      "---------------------\n",
      "{context_str}\n",
      "---------------------\n",
      "Given the context information and not prior knowledge, answer the query.\n",
      "Query: {query_str}\n",
      "Answer: \n"
     ]
    },
    {
     "data": {
      "text/markdown": [],
      "text/plain": [
       "<IPython.core.display.Markdown object>"
      ]
     },
     "metadata": {},
     "output_type": "display_data"
    },
    {
     "data": {
      "text/markdown": [
       "**Prompt Key**: response_synthesizer:refine_template**Text:** "
      ],
      "text/plain": [
       "<IPython.core.display.Markdown object>"
      ]
     },
     "metadata": {},
     "output_type": "display_data"
    },
    {
     "name": "stdout",
     "output_type": "stream",
     "text": [
      "The original query is as follows: {query_str}\n",
      "We have provided an existing answer: {existing_answer}\n",
      "We have the opportunity to refine the existing answer (only if needed) with some more context below.\n",
      "------------\n",
      "{context_msg}\n",
      "------------\n",
      "Given the new context, refine the original answer to better answer the query. If the context isn't useful, return the original answer.\n",
      "Refined Answer: \n"
     ]
    },
    {
     "data": {
      "text/markdown": [],
      "text/plain": [
       "<IPython.core.display.Markdown object>"
      ]
     },
     "metadata": {},
     "output_type": "display_data"
    }
   ],
   "source": [
    "display_prompt_dict(query_engine.get_prompts())"
   ]
  },
  {
   "cell_type": "code",
   "execution_count": 37,
   "metadata": {},
   "outputs": [],
   "source": [
    "# query_engine.update_prompts(\n",
    "#     {\"response_synthesizer:refine_template\": example_query_prompt},\n",
    "# )"
   ]
  },
  {
   "cell_type": "code",
   "execution_count": 38,
   "metadata": {},
   "outputs": [],
   "source": [
    "\n",
    "query_engine.update_prompts(\n",
    "    {\"response_synthesizer:text_qa_template\": example_query_prompt},\n",
    ")"
   ]
  },
  {
   "cell_type": "code",
   "execution_count": 39,
   "metadata": {},
   "outputs": [],
   "source": [
    "query_str = \"Môn CS115 cung cấp kiến thức gì cho người học ? \""
   ]
  },
  {
   "cell_type": "code",
   "execution_count": 176,
   "metadata": {},
   "outputs": [],
   "source": [
    "\n",
    "response = query_engine.query(query_str)"
   ]
  },
  {
   "cell_type": "code",
   "execution_count": 177,
   "metadata": {},
   "outputs": [
    {
     "data": {
      "text/plain": [
       "'Các môn học có mã bắt đầu bằng chữ CS trong khoá học máy tính là CS115 (Toán ứng dụng) và CS116 (Lập trình C++). \\n\\n(Note: The context does not provide enough information to list all CS courses, only CS115 and CS116 are mentioned.)'"
      ]
     },
     "execution_count": 177,
     "metadata": {},
     "output_type": "execute_result"
    }
   ],
   "source": [
    "response.response"
   ]
  },
  {
   "cell_type": "code",
   "execution_count": 30,
   "metadata": {},
   "outputs": [],
   "source": [
    "hyde_prompt = \"\"\"\n",
    "You are a Vietnamese language expert    \n",
    "\n",
    "    1. Please write a passage to answer the question in Vietnamese\n",
    "    2. Try to include as many key details as possible.\n",
    "    3. Use natural and conversational Vietnamese suitable for the intended audience.\n",
    "    4. Avoid repetition and ensure each question addresses a distinct aspect of the context.\n",
    "    5. remove all special token\n",
    "    6. you can not have an answer just reponse you don't know.\n",
    "    7. Do not Hallucinate if you don't know the answer.\n",
    "        \n",
    "    {context_str}\n",
    "    \n",
    "    \n",
    "    Passage:\n",
    "\"\"\"\n",
    "    \n"
   ]
  },
  {
   "cell_type": "code",
   "execution_count": 31,
   "metadata": {},
   "outputs": [],
   "source": [
    "hyde = HyDEQueryTransform(include_original=True, llm=llm, hyde_prompt=PromptTemplate(hyde_prompt))\n",
    "hyde_query_engine = TransformQueryEngine(query_engine, hyde)"
   ]
  },
  {
   "cell_type": "code",
   "execution_count": 32,
   "metadata": {},
   "outputs": [
    {
     "data": {
      "text/plain": [
       "'Môn học CE407 là môn học chuyên ngành Hệ thống nhúng và Robot dành cho sinh viên học chuyên đề tốt nghiệp. Trong môn này, sinh viên sẽ phát triển kỹ năng thiết kế hệ thống nhúng và robot. Sau khi hoàn thành môn học, sinh viên sẽ có kiến thức tổng hợp về chuyên ngành hệ thống nhúng và robot, kỹ năng tìm hiểu, nghiên cứu và giải quyết bài toán trong lĩnh vực hệ thống nhúng, kỹ thuật máy tính, cũng như kỹ năng thuyết trình, giao tiếp và làm việc'"
      ]
     },
     "execution_count": 32,
     "metadata": {},
     "output_type": "execute_result"
    }
   ],
   "source": [
    "\n",
    "response = hyde_query_engine.query(query_str)\n",
    "response.response"
   ]
  },
  {
   "cell_type": "markdown",
   "metadata": {},
   "source": [
    "## Query with Pinecone"
   ]
  },
  {
   "cell_type": "code",
   "execution_count": 8,
   "metadata": {},
   "outputs": [],
   "source": [
    "import re\n",
    "course_code_pattern = r\"\\b[A-Z]{2}[0-9]{3}\\b\""
   ]
  },
  {
   "cell_type": "code",
   "execution_count": 9,
   "metadata": {},
   "outputs": [],
   "source": [
    "index = pc.Index(host=\"https://agent-quoor8m.svc.aped-4627-b74a.pinecone.io\")"
   ]
  },
  {
   "cell_type": "code",
   "execution_count": 10,
   "metadata": {},
   "outputs": [
    {
     "data": {
      "text/plain": [
       "{'dimension': 1024,\n",
       " 'index_fullness': 0.0,\n",
       " 'namespaces': {'': {'vector_count': 13}},\n",
       " 'total_vector_count': 13}"
      ]
     },
     "execution_count": 10,
     "metadata": {},
     "output_type": "execute_result"
    }
   ],
   "source": [
    "index.describe_index_stats()"
   ]
  },
  {
   "cell_type": "code",
   "execution_count": 11,
   "metadata": {},
   "outputs": [],
   "source": [
    "def get_embed(text):\n",
    "    return embbeding_model._embed(text)"
   ]
  },
  {
   "cell_type": "code",
   "execution_count": 31,
   "metadata": {},
   "outputs": [],
   "source": [
    "query_text = \"Tôi muốn tìm hiểu về môn toán cho khoa học máy tính IT005\"\n",
    "course_id = re.findall(course_code_pattern, query_text)\n",
    "query_embedding = get_embed(query_text)\n",
    "\n",
    "results = {}\n",
    "if course_id:\n",
    "    results = index.query(\n",
    "        vector= query_embedding,\n",
    "        filter={\"course\": {\"$in\": course_id}},\n",
    "        top_k=3,\n",
    "        include_metadata=True\n",
    "    )\n",
    "else:\n",
    "    results = index.query(\n",
    "        vector= query_embedding,\n",
    "        top_k=5,\n",
    "        include_metadata=True\n",
    "    )\n"
   ]
  },
  {
   "cell_type": "code",
   "execution_count": 44,
   "metadata": {},
   "outputs": [],
   "source": [
    "# results"
   ]
  },
  {
   "cell_type": "code",
   "execution_count": 33,
   "metadata": {},
   "outputs": [
    {
     "name": "stdout",
     "output_type": "stream",
     "text": [
      "Môn Nhập môn mạng máy tính với mã IT005 cung cấp kiến thức cơ bản về các khái niệm như mạng máy tính, truyền dữ liệu, dịch vụ mạng và kỹ thuật mạng không dây.\n"
     ]
    }
   ],
   "source": [
    "import json\n",
    "\n",
    "def result_content(results):\n",
    "    matches = results['matches']  \n",
    "    response_texts = []\n",
    "    for match in matches:\n",
    "        node_content = json.loads(match['metadata']['_node_content'])\n",
    "        match_text = node_content['text']\n",
    "        response_texts.append(match_text)\n",
    "    response = \"\\n\".join(response_texts)\n",
    "    return response\n",
    "\n",
    "print(result_content(results=results))\n"
   ]
  },
  {
   "cell_type": "markdown",
   "metadata": {},
   "source": [
    "## Hybrid search"
   ]
  },
  {
   "cell_type": "code",
   "execution_count": 8,
   "metadata": {},
   "outputs": [],
   "source": [
    "Settings.llm = llm\n",
    "Settings.embed_model = embbeding_model"
   ]
  },
  {
   "cell_type": "code",
   "execution_count": 9,
   "metadata": {},
   "outputs": [],
   "source": [
    "reader = SimpleDirectoryReader(input_dir=r\"C:\\Users\\leduc\\OneDrive\\Desktop\\NLP\\LLM-Agent\\AI _solution\\sample-data\")\n",
    "documents = reader.load_data(num_workers=4)"
   ]
  },
  {
   "cell_type": "code",
   "execution_count": 10,
   "metadata": {},
   "outputs": [],
   "source": [
    "splitter = SemanticSplitterNodeParser(\n",
    "    buffer_size=1, breakpoint_percentile_threshold=80, embed_model=embbeding_model\n",
    ")\n"
   ]
  },
  {
   "cell_type": "code",
   "execution_count": 112,
   "metadata": {},
   "outputs": [],
   "source": [
    "keyword_prompt = \"\"\"\n",
    "{context_str}. Give {keywords} unique Vietnamese keywords or course code for this \\\n",
    "document. Format as comma separated. let's think step by step. Keywords:\n",
    "\"\"\""
   ]
  },
  {
   "cell_type": "code",
   "execution_count": 113,
   "metadata": {},
   "outputs": [],
   "source": [
    "transformations = [\n",
    "    splitter,\n",
    "    KeywordExtractor(keywords=1, llm=llm, prompt_template= keyword_prompt),\n",
    "    # QuestionsAnsweredExtractor(questions=1, llm=llm, prompt_template= FAQ_prompt)\n",
    "]"
   ]
  },
  {
   "cell_type": "code",
   "execution_count": 114,
   "metadata": {},
   "outputs": [
    {
     "name": "stderr",
     "output_type": "stream",
     "text": [
      "100%|██████████| 10/10 [00:02<00:00,  3.81it/s]\n"
     ]
    }
   ],
   "source": [
    "pipeline = IngestionPipeline(transformations=transformations)\n",
    "nodes = pipeline.run(documents = documents)"
   ]
  },
  {
   "cell_type": "code",
   "execution_count": 122,
   "metadata": {},
   "outputs": [],
   "source": [
    "import re\n",
    "\n",
    "def clean_text(text):\n",
    "\n",
    "    text = re.sub(r'\\d+\\.\\s*', '', text)  \n",
    "    \n",
    "\n",
    "    text = re.sub(r'Keywords:.*', '', text)\n",
    "    text = re.sub(r'-', ' ', text)\n",
    "    text = text.replace('\\n', ' ').strip()\n",
    "    text = re.sub(r'\\s+', ' ', text) \n",
    "    text = text.strip()\n",
    "    \n",
    "    return text"
   ]
  },
  {
   "cell_type": "code",
   "execution_count": 123,
   "metadata": {},
   "outputs": [
    {
     "name": "stdout",
     "output_type": "stream",
     "text": [
      "Quản lý dự án (Project management) Kiểm định và đảm bảo chất lượng (Quality assurance) Tích hợp và phát triển hệ thống (System integration and development) Quy trình tổ chức (Organizational process) CNTT (Information technology) Course code: IE302 (System Integration and Management)\n",
      "Toán ứng dụng, CSThis document appears to be a text file containing information about a computer science course related to applied mathematics, specifically mathematics used in machine learning, artificial intelligence, data mining, and signal processing. The keywords or course code for this document could be \"Toán ứng dụng\" (Applied Mathematics) or \"CS115\" (Computer Science Course Code for Applied Mathematics).\n",
      "Môn Thực tập (Practicum) Doanh nghiệp (Business) Chương trình thực tập cuối khóa (Capstone Practicum) Cơ quan sự nghiệp (Government agency) Lĩnh vực liên quan (Related field) Sinh viên (Student) Chuyên gia (Expert) Các công việc (Work tasks) Tích lũy kinh nghiệm (Gain experience) So the Vietnamese keywords for this document would be: Môn Thực tập, Doanh nghiệp, Chương trình thực tập cuối khóa, Cơ quan sự nghiệp, Lĩnh vực liên quan, Sinh viên, Chuyên gia, Các công việc, Tích lũy kinh ngh\n",
      "Cử nhân (employee) Ngành Công nghệ Thông tin (Information Technology major) Áp dụng từ Khoá 18 (Application of Keyword 18) Ngoại ngữ (foreign language) Hình thức đào tạo (learning method) Chính quy tập trung (full time) Số tín chỉ đào tạo (number of credits) Tối thiểu (minimum) Thời gian đào tạo (duration of study) course_code: CNT IT 18 F, CNT IT 18 FT 132\n",
      "Khóa luận tốt nghiệp, An ninh Thông tin, Đề tài nghiên cứu, Sinh viên, Chương trình đào tạo tài năng, Giảng viên, Quy trình vận hành, Hệ thống triển khai, Đánh giá, Phát triển tiếp theo, Nhu cầu thực tế, Khả năng nghiên cứu, Khả năng làm việc độc lập. Course code: NT\n",
      "CE407, Đồ án, Hệ thống nhúng, Robot, Sinh viên, Học chuyên đề, Tốt nghiệp, Kiến thức, Nghiên cứu, Giải quyết bài toán, Kỹ năng thuyết trình, Giao tiếp, Lãm việc nhóm, Chuyên ngành hệ thống nhúng. This document is a description of a computer science course (CE407) for undergraduate students majoring in Embedded Systems and Robotics. The course aims to help students develop skills in designing embedded systems and robots. After completing the course, students will have comprehensive knowledge of the field of embedded systems and robotics, the ability to research and solve problems in the field of computer science, computer skills, and communication, teamwork skills. The course also encourages active participation in the field of embedded systems.\n",
      "Phát triển game, Quy trình tạo ra trò chơi, Quản lý trò chơi, Quản lý game trực tuyến, Nhập vai trực tuyến, Môn học SE327, Kiến thức chế tạo trò chơi. Course code: SE\n",
      "Cử nhân (employee) Hệ thống Thông tin (IT system) Áp dụng (application) Tập trung (focused) Chính quy (formal) Số tín chỉ (credit) Đào tạo (training) Thời gian (time) Năm (years) Học kỳ (semester) Based on the given text, a possible unique Vietnamese keyword or course code for this document could be: \"Cử nhân Hệ thống Thông tin Đào tạo chính quy, tập trung (IT Employee Formal, Focused Training)\". Another possible keyword could be \"Số tín chỉ 134 Đào tạo Cử nhân Hệ thống Thông tin (134 Credit IT Employee Training)\".\n",
      "Môn Nhập (Introduction) Mạng máy tính (Computer Network) Khái niệm (Concept) Mã IT005 (Course Code)\n",
      "CS221 Xử lý ngôn ngữ tự nhiên Chuyên ngành Kiến thức cơ bản Văn phạm phi ngữ cảnh CFG Văn phạm DCG Cách cài đặt Giải thích Prolog FSA CS221, Xử lý ngôn ngữ tự nhiên, Kiến thức cơ bản, Văn phạm phi ngữ cảnh CFG, Văn phạm DCG, Cách cài đặt, Giải thích, Prolog, FSA\n"
     ]
    }
   ],
   "source": [
    "for i in range(0, len(nodes)):\n",
    "    print(clean_text(nodes[i].metadata[\"excerpt_keywords\"]))\n",
    "    nodes[i].metadata[\"excerpt_keywords\"] = clean_text(nodes[i].metadata[\"excerpt_keywords\"])\n"
   ]
  },
  {
   "cell_type": "code",
   "execution_count": 120,
   "metadata": {},
   "outputs": [
    {
     "data": {
      "text/plain": [
       "13"
      ]
     },
     "execution_count": 120,
     "metadata": {},
     "output_type": "execute_result"
    }
   ],
   "source": [
    "len(nodes)"
   ]
  },
  {
   "cell_type": "code",
   "execution_count": 149,
   "metadata": {},
   "outputs": [],
   "source": [
    "splitted_documents = [Document(text=node.text, metadata={\"excerpt_keywords\": node.metadata[\"excerpt_keywords\"]}) for node in nodes]"
   ]
  },
  {
   "cell_type": "code",
   "execution_count": 150,
   "metadata": {},
   "outputs": [],
   "source": [
    "docstore = SimpleDocumentStore()\n",
    "docstore.add_documents(splitted_documents)\n",
    "\n",
    "storage_context = StorageContext.from_defaults(\n",
    "    docstore=docstore\n",
    ")\n",
    "\n",
    "\n",
    "index = VectorStoreIndex(splitted_documents, storage_context=storage_context)"
   ]
  },
  {
   "cell_type": "code",
   "execution_count": 9,
   "metadata": {},
   "outputs": [],
   "source": [
    "from llama_index.core import load_index_from_storage\n",
    "\n",
    "storage_context = StorageContext.from_defaults(persist_dir=r\"C:\\Users\\leduc\\OneDrive\\Desktop\\NLP\\LLM-Agent\\AI _solution\\index\")"
   ]
  },
  {
   "cell_type": "code",
   "execution_count": 10,
   "metadata": {},
   "outputs": [],
   "source": [
    "index =  load_index_from_storage(storage_context)"
   ]
  },
  {
   "cell_type": "code",
   "execution_count": 119,
   "metadata": {},
   "outputs": [
    {
     "name": "stdout",
     "output_type": "stream",
     "text": [
      "['2023']\n"
     ]
    }
   ],
   "source": [
    "# index.storage_context.persist(\"index/\")\n"
   ]
  },
  {
   "cell_type": "code",
   "execution_count": 16,
   "metadata": {},
   "outputs": [],
   "source": [
    "import nest_asyncio\n",
    "\n",
    "nest_asyncio.apply()\n",
    "\n",
    "retriever = QueryFusionRetriever(\n",
    "    [\n",
    "        index.as_retriever(similarity_top_k=5),\n",
    "        BM25Retriever.from_defaults(\n",
    "            docstore=index.docstore, similarity_top_k=5\n",
    "        ),\n",
    "    ],\n",
    "    # mode=\"reciprocal_rerank\",\n",
    "    num_queries=1,\n",
    "    use_async=True,\n",
    "    # query_gen_prompt = hyde_prompt\n",
    ")"
   ]
  },
  {
   "cell_type": "code",
   "execution_count": 17,
   "metadata": {},
   "outputs": [
    {
     "data": {
      "text/markdown": [
       "**Node ID:** 5eaa6195-107d-4b31-a308-78387bbd945a<br>**Similarity:** 4.021712303161621<br>**Text:** Mã môn học của môn Toán cho Khoa học máy tính là CS115. Tóm tắt nội dung môn học như sau: Môn này cung cấp kiến thức về Toán ứng dụng trong các lĩnh vực như máy học, trí tuệ nhân tạo, khai phá dữ liệu và xử lý tín hiệu số.<br>"
      ],
      "text/plain": [
       "<IPython.core.display.Markdown object>"
      ]
     },
     "metadata": {},
     "output_type": "display_data"
    },
    {
     "data": {
      "text/markdown": [
       "**Node ID:** 0d29065d-d35e-44ae-b2dc-7420b773c245<br>**Similarity:** 3.1310784816741943<br>**Text:** Môn học CE407 - Đồ án chuyên ngành Hệ thống nhúng và Robot dành cho sinh viên học chuyên đề tốt nghiệp. Đồ án này giúp sinh viên phát triển kỹ năng thiết kế hệ thống nhúng và robot. Sau khi hoàn thành môn học, sinh viên sẽ có kiến thức tổng hợp về chuyên ngành hệ thống nhúng và robot, kỹ năng tìm hiểu, nghiên cứu và giải quyết bài toán trong lĩnh vực hệ thống nhúng, kỹ thuật máy tính, cũng như kỹ năng thuyết trình, giao tiếp và làm việc nhóm. Môn học cũng khuyến khích thái độ làm việc tích cực trong lĩnh vực hệ thống nhúng.<br>"
      ],
      "text/plain": [
       "<IPython.core.display.Markdown object>"
      ]
     },
     "metadata": {},
     "output_type": "display_data"
    }
   ],
   "source": [
    "nodes = retriever.retrieve(\"Môn học Toán Cho Khoa Học Máy Tính CE407 là gì\")\n",
    "for node in nodes:\n",
    "    display_source_node(node, source_length=5000)"
   ]
  },
  {
   "cell_type": "code",
   "execution_count": 18,
   "metadata": {},
   "outputs": [
    {
     "name": "stderr",
     "output_type": "stream",
     "text": [
      "c:\\Python311\\Lib\\site-packages\\pydantic\\_internal\\_config.py:341: UserWarning: Valid config keys have changed in V2:\n",
      "* 'allow_population_by_field_name' has been renamed to 'populate_by_name'\n",
      "* 'smart_union' has been removed\n",
      "  warnings.warn(message, UserWarning)\n"
     ]
    }
   ],
   "source": [
    "cohere_rerank = CohereRerank(model=\"rerank-v3.5\" ,api_key=os.environ[\"COHERE_API_TOKEN\"], top_n=2)"
   ]
  },
  {
   "cell_type": "code",
   "execution_count": 19,
   "metadata": {},
   "outputs": [],
   "source": [
    "query_engine = RetrieverQueryEngine(retriever=retriever, node_postprocessors=[cohere_rerank])"
   ]
  },
  {
   "cell_type": "code",
   "execution_count": 33,
   "metadata": {},
   "outputs": [],
   "source": [
    "chat_engine = index.as_chat_engine(chat_mode=\"context\", query_engine = hyde_query_engine ,verbose=True, llm=llm)"
   ]
  },
  {
   "cell_type": "code",
   "execution_count": 34,
   "metadata": {},
   "outputs": [],
   "source": [
    "query_str = \"Môn học Toán Cho Khoa Học Máy Tính CE407 là gì\""
   ]
  },
  {
   "cell_type": "code",
   "execution_count": 35,
   "metadata": {},
   "outputs": [
    {
     "name": "stdout",
     "output_type": "stream",
     "text": [
      "Đôi khi có lỗi phản ánh trong bạn đang yêu cầu về môn học Toán cho Khoa Học Máy Tính (Computer Science) với mã môn học CE407. Tuy nhiên, theo thông tin trong bài viết, CE407 là một môn học về Hệ thống nhúng và Robotics, không phải là môn học Toán cho Khoa Học Máy Tính. Nếu bạn đang tìm kiếm một môn học về Toán ứng dụng trong Khoa Học Máy Tính, bạn có thể xem xét mã môn học CS115 hoặc \"Toán ứng dụng\" làm từ khóa tìm kiếm.\n"
     ]
    }
   ],
   "source": [
    "react_response = chat_engine.chat(query_str)\n",
    "print(react_response.response)"
   ]
  },
  {
   "cell_type": "code",
   "execution_count": 25,
   "metadata": {},
   "outputs": [],
   "source": [
    "example_query_prompt = \"\"\"\n",
    "You are a Vietnamese language expert. \n",
    "\n",
    "### Guidelines:\n",
    "1. Response with Vietnamese\n",
    "2. Only based on information about course information do not care about files information\n",
    "3. Use natural and conversational Vietnamese suitable for the intended audience.\n",
    "4. Avoid repetition and ensure each question addresses a distinct aspect of the context.\n",
    "5. remove all special token\n",
    "6. you can not have an answer just reponse you don't know.\n",
    "7. Do not Hallucinate if you don't know the answer.\n",
    "8. Do not repeat the question.\n",
    "\n",
    "\n",
    "let's think step by step\n",
    "\n",
    "response the question based on context:\n",
    "\n",
    "question: {query_str}\n",
    "\n",
    "context: {context_str}\n",
    "\n",
    "answer:\n",
    "\n",
    "\"\"\"\n",
    "\n",
    "example_query_prompt = PromptTemplate(example_query_prompt)"
   ]
  },
  {
   "cell_type": "code",
   "execution_count": 26,
   "metadata": {},
   "outputs": [],
   "source": [
    "\n",
    "query_engine.update_prompts(\n",
    "    {\"response_synthesizer:text_qa_template\": example_query_prompt},\n",
    ")"
   ]
  },
  {
   "cell_type": "code",
   "execution_count": 168,
   "metadata": {},
   "outputs": [
    {
     "name": "stdout",
     "output_type": "stream",
     "text": [
      "Môn học CE407 là một môn học chuyên ngành về hệ thống nhúng và robot dành cho sinh viên học chuyên đề tốt nghiệp. Trong môn này, sinh viên sẽ phát triển kỹ năng thiết kế hệ thống nhúng và robot, có kiến thức tổng hợp về chuyên ngành hệ thống nhúng và robot, kỹ năng tìm hiểu, nghiên cứu và giải quyết bài toán trong lĩnh vực hệ thống nhúng, kỹ thuật máy tính, cũng như kỹ năng thuyết trình, giao tiếp và làm việc nhóm.\n"
     ]
    }
   ],
   "source": [
    "response = query_engine.query(query_str)\n",
    "print(response.response)"
   ]
  },
  {
   "cell_type": "code",
   "execution_count": 24,
   "metadata": {},
   "outputs": [
    {
     "ename": "NameError",
     "evalue": "name 'hyde_prompt' is not defined",
     "output_type": "error",
     "traceback": [
      "\u001b[1;31m---------------------------------------------------------------------------\u001b[0m",
      "\u001b[1;31mNameError\u001b[0m                                 Traceback (most recent call last)",
      "Cell \u001b[1;32mIn[24], line 1\u001b[0m\n\u001b[1;32m----> 1\u001b[0m hyde \u001b[38;5;241m=\u001b[39m HyDEQueryTransform(include_original\u001b[38;5;241m=\u001b[39m\u001b[38;5;28;01mTrue\u001b[39;00m, llm\u001b[38;5;241m=\u001b[39mllm, hyde_prompt\u001b[38;5;241m=\u001b[39mPromptTemplate(\u001b[43mhyde_prompt\u001b[49m))\n\u001b[0;32m      2\u001b[0m hyde_query_engine \u001b[38;5;241m=\u001b[39m TransformQueryEngine(query_engine, hyde)\n",
      "\u001b[1;31mNameError\u001b[0m: name 'hyde_prompt' is not defined"
     ]
    }
   ],
   "source": [
    "hyde = HyDEQueryTransform(include_original=True, llm=llm, hyde_prompt=PromptTemplate(hyde_prompt))\n",
    "hyde_query_engine = TransformQueryEngine(query_engine, hyde)"
   ]
  },
  {
   "cell_type": "code",
   "execution_count": 188,
   "metadata": {},
   "outputs": [],
   "source": [
    "query_str = \"Môn học Toán Cho Khoa Học Máy Tính CE407 là gì\""
   ]
  },
  {
   "cell_type": "code",
   "execution_count": 172,
   "metadata": {},
   "outputs": [
    {
     "name": "stdout",
     "output_type": "stream",
     "text": [
      "Môn học CE407 là một môn học chuyên ngành về hệ thống nhúng và robot dành cho sinh viên học chuyên đề tốt nghiệp. Trong môn này, sinh viên sẽ phát triển kỹ năng thiết kế hệ thống nhúng và robot, có kiến thức tổng hợp về chuyên ngành hệ thống nhúng và robot, kỹ năng tìm hiểu, nghiên cứu và giải quyết bài toán trong lĩnh vực hệ thống nhúng, kỹ thuật máy tính, cũng như kỹ năng thuyết trình, giao tiếp và làm việc nhóm.\n"
     ]
    }
   ],
   "source": [
    "\n",
    "hyde_response = hyde_query_engine.query(query_str)\n",
    "print(hyde_response.response)"
   ]
  },
  {
   "cell_type": "code",
   "execution_count": 173,
   "metadata": {},
   "outputs": [
    {
     "name": "stdout",
     "output_type": "stream",
     "text": [
      "Final Response: Môn học CE407 là một môn học chuyên ngành về hệ thống\n",
      "nhúng và robot dành cho sinh viên học chuyên đề tốt nghiệp. Trong môn\n",
      "này, sinh viên sẽ phát triển kỹ năng thiết kế hệ thống nhúng và robot,\n",
      "có kiến thức tổng hợp về chuyên ngành hệ thống nhúng và robot, kỹ năng\n",
      "tìm hiểu, nghiên cứu và giải quyết bài toán trong lĩnh vực hệ thống\n",
      "nhúng, kỹ thuật máy tính, cũng như kỹ năng thuyết trình, giao tiếp và\n",
      "làm việc nhóm.\n",
      "______________________________________________________________________\n",
      "Source Node 1/2\n",
      "Node ID: 5eaa6195-107d-4b31-a308-78387bbd945a\n",
      "Similarity: 4.021712303161621\n",
      "Text: Mã môn học của môn Toán cho Khoa học máy tính là CS115. Tóm tắt\n",
      "nội dung môn học như sau: Môn này cung cấp kiến thức về Toán ứng dụng\n",
      "trong các lĩnh vực như máy học, trí tuệ nhân tạo, khai phá dữ liệu và\n",
      "xử lý tín hiệu số.\n",
      "______________________________________________________________________\n",
      "Source Node 2/2\n",
      "Node ID: 0d29065d-d35e-44ae-b2dc-7420b773c245\n",
      "Similarity: 3.1310784816741943\n",
      "Text: Môn học CE407 - Đồ án chuyên ngành Hệ thống nhúng và Robot dành\n",
      "cho sinh viên học chuyên đề tốt nghiệp. Đồ án này giúp sinh viên phát\n",
      "triển kỹ năng thiết kế hệ thống nhúng và robot. Sau khi hoàn thành môn\n",
      "học, sinh viên sẽ có kiến thức tổng hợp về chuyên ngành hệ thống nhúng\n",
      "và robot, kỹ năng tìm hiểu, nghiên cứu và giải quyết bài toán trong\n",
      "lĩn...\n"
     ]
    }
   ],
   "source": [
    "pprint_response(hyde_response, show_source=True)"
   ]
  },
  {
   "cell_type": "code",
   "execution_count": 5,
   "metadata": {},
   "outputs": [
    {
     "name": "stderr",
     "output_type": "stream",
     "text": [
      "Upserted vectors: 100%|██████████| 439/439 [00:06<00:00, 68.55it/s]\n"
     ]
    }
   ],
   "source": [
    "pinecone_index = pinecone.Index(host=\"https://agent-quoor8m.svc.aped-4627-b74a.pinecone.io\", api_key= os.environ[\"PINECONE_API_KEY\"])\n",
    "storage_context_pinecone = StorageContext.from_defaults(\n",
    "    vector_store=PineconeVectorStore(pinecone_index)\n",
    ")\n",
    "index = VectorStoreIndex.from_documents(splitted_documents, storage_context=storage_context_pinecone, embed_model= embbeding_model)"
   ]
  },
  {
   "cell_type": "code",
   "execution_count": 57,
   "metadata": {},
   "outputs": [],
   "source": [
    "import pandas as pd\n",
    "df = pd.read_csv(r\"C:\\Users\\leduc\\OneDrive\\Desktop\\NLP\\LLM-Agent\\AI _solution\\evalutation.csv\", index_col=0)"
   ]
  },
  {
   "cell_type": "code",
   "execution_count": 58,
   "metadata": {},
   "outputs": [
    {
     "data": {
      "text/html": [
       "<div>\n",
       "<style scoped>\n",
       "    .dataframe tbody tr th:only-of-type {\n",
       "        vertical-align: middle;\n",
       "    }\n",
       "\n",
       "    .dataframe tbody tr th {\n",
       "        vertical-align: top;\n",
       "    }\n",
       "\n",
       "    .dataframe thead th {\n",
       "        text-align: right;\n",
       "    }\n",
       "</style>\n",
       "<table border=\"1\" class=\"dataframe\">\n",
       "  <thead>\n",
       "    <tr style=\"text-align: right;\">\n",
       "      <th></th>\n",
       "      <th>reference</th>\n",
       "      <th>query</th>\n",
       "      <th>response</th>\n",
       "      <th>respone</th>\n",
       "    </tr>\n",
       "  </thead>\n",
       "  <tbody>\n",
       "    <tr>\n",
       "      <th>0</th>\n",
       "      <td>Mã môn học của môn Toán cho Khoa học máy tính ...</td>\n",
       "      <td>Môn CS115 học cái gì?</td>\n",
       "      <td>NaN</td>\n",
       "      <td>NaN</td>\n",
       "    </tr>\n",
       "    <tr>\n",
       "      <th>1</th>\n",
       "      <td>Cử nhân ngành Công nghệ Thông tin (Áp dụng từ ...</td>\n",
       "      <td>Cử nhân ngành Công nghệ thông tin cần học mấy ...</td>\n",
       "      <td>NaN</td>\n",
       "      <td>NaN</td>\n",
       "    </tr>\n",
       "    <tr>\n",
       "      <th>2</th>\n",
       "      <td>Môn Nhập môn mạng máy tính với mã IT005 cung c...</td>\n",
       "      <td>Môn Nhập môn mạng máy tính học những gì?</td>\n",
       "      <td>NaN</td>\n",
       "      <td>NaN</td>\n",
       "    </tr>\n",
       "    <tr>\n",
       "      <th>3</th>\n",
       "      <td>Môn học CS221 về Xử lý ngôn ngữ tự nhiên nhằm ...</td>\n",
       "      <td>CS221 là môn gì?</td>\n",
       "      <td>NaN</td>\n",
       "      <td>NaN</td>\n",
       "    </tr>\n",
       "    <tr>\n",
       "      <th>4</th>\n",
       "      <td>Môn học mang tên Lý Luận Kinh Tế Chính Trị Má́...</td>\n",
       "      <td>Môn kinh tế chính trị Mác-Leenin là môn gì?</td>\n",
       "      <td>NaN</td>\n",
       "      <td>NaN</td>\n",
       "    </tr>\n",
       "  </tbody>\n",
       "</table>\n",
       "</div>"
      ],
      "text/plain": [
       "                                           reference  \\\n",
       "0  Mã môn học của môn Toán cho Khoa học máy tính ...   \n",
       "1  Cử nhân ngành Công nghệ Thông tin (Áp dụng từ ...   \n",
       "2  Môn Nhập môn mạng máy tính với mã IT005 cung c...   \n",
       "3  Môn học CS221 về Xử lý ngôn ngữ tự nhiên nhằm ...   \n",
       "4  Môn học mang tên Lý Luận Kinh Tế Chính Trị Má́...   \n",
       "\n",
       "                                               query  response  respone  \n",
       "0                              Môn CS115 học cái gì?       NaN      NaN  \n",
       "1  Cử nhân ngành Công nghệ thông tin cần học mấy ...       NaN      NaN  \n",
       "2           Môn Nhập môn mạng máy tính học những gì?       NaN      NaN  \n",
       "3                                   CS221 là môn gì?       NaN      NaN  \n",
       "4        Môn kinh tế chính trị Mác-Leenin là môn gì?       NaN      NaN  "
      ]
     },
     "execution_count": 58,
     "metadata": {},
     "output_type": "execute_result"
    }
   ],
   "source": [
    "df.head()"
   ]
  },
  {
   "cell_type": "code",
   "execution_count": 127,
   "metadata": {},
   "outputs": [
    {
     "name": "stderr",
     "output_type": "stream",
     "text": [
      "C:\\Users\\leduc\\AppData\\Local\\Temp\\ipykernel_17600\\2595136526.py:56: DeprecationWarning: Call to deprecated class HuggingFaceInferenceAPI. (Deprecated in favor of `HuggingFaceInferenceAPI` from `llama-index-llms-huggingface-api` which should be used instead.)\n",
      "  llm = HuggingFaceInferenceAPI(model_name=\"mistralai/Mistral-7B-Instruct-v0.2\", token=os.environ[\"HF_TOKEN\"])\n"
     ]
    }
   ],
   "source": [
    "import pdfplumber\n",
    "from llama_index.core import SimpleDirectoryReader, Document, VectorStoreIndex, StorageContext,  ChatPromptTemplate\n",
    "from llama_index.core.node_parser import SentenceSplitter, TokenTextSplitter, SentenceWindowNodeParser, SemanticSplitterNodeParser\n",
    "# from llama_index.embeddings.openai import OpenAIEmbedding\n",
    "from llama_index.embeddings.huggingface import HuggingFaceEmbedding\n",
    "from llama_index.vector_stores.pinecone import PineconeVectorStore\n",
    "from llama_index.core import Settings\n",
    "\n",
    "from llama_index.core.extractors import (\n",
    "    SummaryExtractor,\n",
    "    QuestionsAnsweredExtractor,\n",
    "    TitleExtractor,\n",
    "    KeywordExtractor,\n",
    ")\n",
    "\n",
    "\n",
    "from llama_index.core.ingestion import IngestionPipeline\n",
    "from llama_index.llms.huggingface import HuggingFaceLLM, HuggingFaceInferenceAPI\n",
    "from llama_index.llms.openai import OpenAI\n",
    "from llama_index.extractors.entity import EntityExtractor\n",
    "from llama_index.core.indices.query.query_transform import HyDEQueryTransform\n",
    "from llama_index.core.query_engine import TransformQueryEngine\n",
    "from llama_index.core import PromptTemplate\n",
    "\n",
    "\n",
    "\n",
    "# from llama_index.core.postprocessor import LLMRerank, SentenceTransformerRerank\n",
    "# from llama_index.postprocessor.cohere_rerank import CohereRerank\n",
    "from llama_index.core.storage.docstore import SimpleDocumentStore\n",
    "from llama_index.core.retrievers import QueryFusionRetriever\n",
    "from llama_index.retrievers.bm25 import BM25Retriever\n",
    "from llama_index.postprocessor.cohere_rerank import CohereRerank\n",
    "from llama_index.core.query_engine import RetrieverQueryEngine\n",
    "from llama_index.core.response.pprint_utils import pprint_response\n",
    "from llama_index.core.response.notebook_utils import display_source_node\n",
    "from llama_index.core import load_index_from_storage\n",
    "\n",
    "\n",
    "import openai\n",
    "from pinecone import Pinecone\n",
    "import pinecone\n",
    "import os\n",
    "from dotenv import load_dotenv\n",
    "import json\n",
    "\n",
    "\n",
    "import asyncio\n",
    "import nest_asyncio\n",
    "nest_asyncio.apply()\n",
    "\n",
    "load_dotenv()\n",
    "\n",
    "pc = Pinecone(api_key = os.environ[\"PINECONE_API_KEY\"])\n",
    "openai.api_key = os.environ[\"OPEN_AI_KEY\"]\n",
    "embbeding_model = HuggingFaceEmbedding(model_name=\"BAAI/bge-m3\")\n",
    "llm = HuggingFaceInferenceAPI(model_name=\"mistralai/Mistral-7B-Instruct-v0.2\", token=os.environ[\"HF_TOKEN\"])\n",
    "Settings.llm = llm\n",
    "Settings.embed_model = embbeding_model\n",
    "\n",
    "import re\n",
    "course_code_pattern = r\"\\b[A-Z]{2}[0-9]{3}\\b\"\n",
    "\n",
    "example_query_prompt = \"\"\"\n",
    "You are a Vietnamese language expert. \n",
    "\n",
    "### Guidelines:\n",
    "1. Response with Vietnamese\n",
    "2. Only based on information about course information do not care about files information\n",
    "3. Use natural and conversational Vietnamese suitable for the intended audience.\n",
    "4. Avoid repetition and ensure each question addresses a distinct aspect of the context.\n",
    "5. remove all special token\n",
    "6. you can not have an answer just reponse you don't know.\n",
    "7. Do not Hallucinate if you don't know the answer.\n",
    "8. Do not repeat the question.\n",
    "\n",
    "\n",
    "let's think step by step\n",
    "\n",
    "response the question based on context:\n",
    "\n",
    "question: {query_str}\n",
    "\n",
    "context: {context_str}\n",
    "\n",
    "answer:\n",
    "\n",
    "\"\"\"\n",
    "\n",
    "hyde_prompt = \"\"\"\n",
    "You are a Vietnamese language expert    \n",
    "\n",
    "    1. Please write a passage to answer the question in Vietnamese\n",
    "    2. Try to include as many key details as possible.\n",
    "    3. Use natural and conversational Vietnamese suitable for the intended audience.\n",
    "    4. Avoid repetition and ensure each question addresses a distinct aspect of the context.\n",
    "    5. remove all special token\n",
    "    6. you can not have an answer just reponse you don't know.\n",
    "    7. Do not Hallucinate if you don't know the answer.\n",
    "    8. Only use Vietnamese for answer\n",
    "        \n",
    "    {context_str}\n",
    "    \n",
    "    \n",
    "    Passage:\n",
    "\"\"\"\n",
    "    \n",
    "\n",
    "def extract_years(text):\n",
    "    pattern = r'20[0-9][0-9]'\n",
    "    return re.findall(pattern, text)\n",
    "\n",
    "# Load local index\n",
    "storage_context = StorageContext.from_defaults(persist_dir=r\"./rag_database\")\n",
    "index =  load_index_from_storage(storage_context)\n",
    "\n",
    "\n",
    "# implement hybrid search, keywords search, metadata filtering, HyDE query transformation\n",
    "retriever = QueryFusionRetriever(\n",
    "    [\n",
    "        index.as_retriever(similarity_top_k=10),\n",
    "        BM25Retriever.from_defaults(\n",
    "            docstore=index.docstore, similarity_top_k=10\n",
    "        ),\n",
    "    ],\n",
    "    num_queries=1,\n",
    "    use_async=True,\n",
    ")\n",
    "\n",
    "cohere_rerank = CohereRerank(model=\"rerank-v3.5\" ,api_key=os.environ[\"COHERE_API_TOKEN\"], top_n=4)\n",
    "query_engine = RetrieverQueryEngine(retriever=retriever, node_postprocessors=[cohere_rerank])\n",
    "\n",
    "\n",
    "example_query_prompt = PromptTemplate(example_query_prompt)\n",
    "\n",
    "query_engine.update_prompts(\n",
    "    {\"response_synthesizer:text_qa_template\": example_query_prompt},\n",
    ")\n",
    "\n",
    "hyde = HyDEQueryTransform(include_original=True, llm=llm, hyde_prompt=PromptTemplate(hyde_prompt))\n",
    "hyde_query_engine = TransformQueryEngine(query_engine, hyde)\n",
    "\n",
    "chat_engine = index.as_chat_engine(chat_mode=\"condense_plus_context\", system_prompt=(chat_prompt) ,query_engine = query_engine ,verbose=True, llm=llm, max_tokens = 1000)\n",
    "\n",
    "\n",
    "\n",
    "\n",
    "# Ham xuat ket qua cho Pinecone\n",
    "def result_content(results):\n",
    "    matches = results['matches']  \n",
    "    response_texts = []\n",
    "    for match in matches:\n",
    "        node_content = json.loads(match['metadata']['_node_content'])\n",
    "        match_text = node_content['text']\n",
    "        response_texts.append(match_text)\n",
    "    response = \"\\n\".join(response_texts)\n",
    "    return response\n",
    "\n",
    "# connect voi Pinecone Index\n",
    "pinecone_index = pc.Index(host=\"https://agent-quoor8m.svc.aped-4627-b74a.pinecone.io\")\n",
    "\n",
    "def get_embed(text):\n",
    "    return embbeding_model._embed(text)\n",
    "\n",
    "\n",
    "def get_chat(query_str):\n",
    "    \"\"\"\n",
    "    Params:\n",
    "    year -> list: contain extracted years from query\n",
    "    query_embedding: tu biet di\n",
    "    query_str -> str: tu biet di\n",
    "    \n",
    "    Output:\n",
    "    str: response\n",
    "    \"\"\"\n",
    "    query_embedding = get_embed(query_str)\n",
    "    year = extract_years(query_str)\n",
    "   \n",
    "    if year:\n",
    "        results = pinecone_index.query(\n",
    "            vector= query_embedding,\n",
    "            filter={\"year\": {\"$in\": year}},\n",
    "            top_k=5,\n",
    "            include_metadata=True\n",
    "        )\n",
    "        res = result_content(results)\n",
    "        react_response = chat_engine.chat(query_str + \"\\n\" + res)\n",
    "        chat_engine.reset()\n",
    "        return react_response.response\n",
    "    else:\n",
    "        react_response = chat_engine.chat(query_str)\n",
    "        chat_engine.reset()\n",
    "        return react_response.response\n",
    "    \n"
   ]
  },
  {
   "cell_type": "code",
   "execution_count": 82,
   "metadata": {},
   "outputs": [],
   "source": [
    "# res = []\n",
    "# idx = 0\n",
    "# for query in df[\"query\"]:\n",
    "#     print(idx)\n",
    "#     res.append(get_chat(query))\n",
    "#     chat_engine.reset()\n",
    "#     idx+=1"
   ]
  },
  {
   "cell_type": "code",
   "execution_count": 74,
   "metadata": {},
   "outputs": [],
   "source": [
    "# for i in range(len(res)):\n",
    "#     res[i] = res[i].response\n"
   ]
  },
  {
   "cell_type": "code",
   "execution_count": 68,
   "metadata": {},
   "outputs": [],
   "source": [
    "# df[\"response\"] = res"
   ]
  },
  {
   "cell_type": "code",
   "execution_count": 102,
   "metadata": {},
   "outputs": [],
   "source": [
    "# res"
   ]
  },
  {
   "cell_type": "code",
   "execution_count": null,
   "metadata": {},
   "outputs": [],
   "source": [
    "# df.to_csv(r\"C:\\Users\\leduc\\OneDrive\\Desktop\\NLP\\LLM-Agent\\AI _solution\\results.csv\")"
   ]
  },
  {
   "cell_type": "code",
   "execution_count": 128,
   "metadata": {},
   "outputs": [],
   "source": [
    "query_str = \"tín chỉ tốt nghiệp ngành khoa học máy tính năm 2023 là bao nhiêu ?\""
   ]
  },
  {
   "cell_type": "code",
   "execution_count": 126,
   "metadata": {},
   "outputs": [],
   "source": [
    "chat_prompt = \"\"\"\n",
    "You are a Vietnamese language expert. \n",
    "\n",
    "### Guidelines:\n",
    "1. Response with Vietnamese\n",
    "2. Only based on information about course information do not care about files information\n",
    "3. Use natural and conversational Vietnamese suitable for the intended audience.\n",
    "4. Avoid repetition and ensure each question addresses a distinct aspect of the context.\n",
    "5. remove all special token\n",
    "6. Short answer\n",
    "7. Do not Hallucinate if you don't know the answer.\n",
    "8. Do not repeat the question.\n",
    "\n",
    "\n",
    "let's think step by step\n",
    "\n",
    "response the question based on context:\n",
    "\n",
    "\n",
    "\"\"\""
   ]
  },
  {
   "cell_type": "code",
   "execution_count": 122,
   "metadata": {},
   "outputs": [],
   "source": [
    "# chat_engine = index.as_chat_engine(chat_mode=\"condense_plus_context\", query_engine = query_engine ,verbose=True, llm=llm)\n",
    "# chat_engine.reset()"
   ]
  },
  {
   "cell_type": "code",
   "execution_count": 123,
   "metadata": {},
   "outputs": [],
   "source": [
    "# df.head(20)"
   ]
  },
  {
   "cell_type": "code",
   "execution_count": 129,
   "metadata": {},
   "outputs": [
    {
     "name": "stdout",
     "output_type": "stream",
     "text": [
      "Condensed question: tín chỉ tốt nghiệp ngành khoa học máy tính năm 2023 là bao nhiêu ?\n",
      "Cử nhân ngành Khoa học Máy tính (Áp dụng từ khóa 18 - 2023) Hình thức đào tạo: Chính quy tập trung. Số tín chỉ đào tạo: 126 tín chỉ Cấp bằng: Cử nhân ngành Khoa học Máy tính. Thời gian đào tạo: 3.5 năm (gồm 7 học kỳ chính thức).\n",
      "Cử nhân ngành Khoa học Máy tính (Áp dụng từ khóa 18 - 2023) Mục tiêu chung: Chương trình đào tạo hướng đến đào tạo nguồn nhân lực Khoa học máy tính chất lượng cao đạt trình độ khu vực và quốc tế, đáp ứng yêu cầu công nghiệp hóa, hiện đại hóa đất nước và hội nhập quốc tế. Trang bị cho người học kiến thức cơ bản và chuyên sâu về Khoa học máy tính và công nghệ thông tin. Người học có những kiến thức, kỹ năng và thái độ chuẩn mực trong phát triển nghề nghiệp.\n",
      "Cử nhân ngành Kỹ thuật Máy tính (Áp dụng từ khóa 18 - 2023) Hình thức đào tạo: Chính quy tập trung.- Số tín chỉ đào tạo: 128 tín chỉ. - Thời gian đào tạo: 4 năm (8 học kỳ)\n",
      "Cử nhân ngành Công nghệ Thông tin (Áp dụng từ Khoá 18 - 2023) ngành công nghệ thông tin. Hình thức đào tạo: Chính quy tập trung. Số tín chỉ đào tạo: Tối thiểu 125 tín chỉ (bao gồm cả ngoại ngữ).\n",
      "Cử nhân ngành Công nghệ Thông tin (Áp dụng từ Khoá 18 - 2023) ngành công nghệ thông tin việt nhật. Hình thức đào tạo: Chính quy tập trung. Số tín chỉ đào tạo: Tối thiểu 132 tín chỉ (bao gồm cả ngoại ngữ).\n"
     ]
    }
   ],
   "source": [
    "ans = get_chat(query_str=query_str)\n"
   ]
  },
  {
   "cell_type": "code",
   "execution_count": 130,
   "metadata": {},
   "outputs": [
    {
     "name": "stdout",
     "output_type": "stream",
     "text": [
      "Đối với năm 2023, tín chỉ tốt nghiệp cho ngành Khoa học Máy tính là 126 tín chỉ.\n"
     ]
    }
   ],
   "source": [
    "\n",
    "print(ans)"
   ]
  },
  {
   "cell_type": "code",
   "execution_count": null,
   "metadata": {},
   "outputs": [
    {
     "name": "stdout",
     "output_type": "stream",
     "text": [
      "1\n"
     ]
    }
   ],
   "source": []
  },
  {
   "cell_type": "code",
   "execution_count": null,
   "metadata": {},
   "outputs": [],
   "source": []
  }
 ],
 "metadata": {
  "kernelspec": {
   "display_name": "Python 3",
   "language": "python",
   "name": "python3"
  },
  "language_info": {
   "codemirror_mode": {
    "name": "ipython",
    "version": 3
   },
   "file_extension": ".py",
   "mimetype": "text/x-python",
   "name": "python",
   "nbconvert_exporter": "python",
   "pygments_lexer": "ipython3",
   "version": "3.11.4"
  }
 },
 "nbformat": 4,
 "nbformat_minor": 2
}
